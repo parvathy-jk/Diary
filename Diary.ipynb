{
 "cells": [
  {
   "cell_type": "code",
   "execution_count": null,
   "id": "559a3331-aa23-4753-afe6-b5ecea255c1b",
   "metadata": {},
   "outputs": [],
   "source": [
    "from datetime import datetime\n",
    "\n",
    "def write_entry():\n",
    "    entry = input(\"Write your diary entry: \")\n",
    "    with open(\"diary.txt\", \"a\") as f:\n",
    "        f.write(f\"\\n[{datetime.now()}]\\n{entry}\\n{'-'*40}\\n\")\n",
    "    print(\"Entry saved.\")\n",
    "\n",
    "def read_entries():\n",
    "    try:\n",
    "        with open(\"diary.txt\", \"r\") as f:\n",
    "            print(\"\\nYour Diary:\")\n",
    "            print(f.read())\n",
    "    except FileNotFoundError:\n",
    "        print(\"No entries found yet.\")\n",
    "\n",
    "while True:\n",
    "    print(\"\\nDiary Menu\")\n",
    "    print(\"1. Write Entry\")\n",
    "    print(\"2. Read Entries\")\n",
    "    print(\"3. Exit\")\n",
    "\n",
    "    choice = input(\"Choose an option: \")\n",
    "\n",
    "    if choice == '1':\n",
    "        write_entry()\n",
    "    elif choice == '2':\n",
    "        read_entries()\n",
    "    elif choice == '3':\n",
    "        print(\"Goodbye!\")\n",
    "        break\n",
    "    else:\n",
    "        print(\"Invalid option.\")\n"
   ]
  }
 ],
 "metadata": {
  "kernelspec": {
   "display_name": "Python 3 (ipykernel)",
   "language": "python",
   "name": "python3"
  },
  "language_info": {
   "codemirror_mode": {
    "name": "ipython",
    "version": 3
   },
   "file_extension": ".py",
   "mimetype": "text/x-python",
   "name": "python",
   "nbconvert_exporter": "python",
   "pygments_lexer": "ipython3",
   "version": "3.12.5"
  }
 },
 "nbformat": 4,
 "nbformat_minor": 5
}
